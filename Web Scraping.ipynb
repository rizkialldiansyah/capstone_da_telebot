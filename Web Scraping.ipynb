{
 "cells": [
  {
   "cell_type": "code",
   "execution_count": 1,
   "id": "6832e352",
   "metadata": {},
   "outputs": [],
   "source": [
    "import requests\n",
    "\n",
    "LEN_ALL_JOB_PAGE = 15\n",
    "LEN_WFH_JOB_PAGE = 12\n",
    "page = 1\n",
    "url_get_all = requests.get(f'https://www.kalibrr.id/id-ID/job-board/te/data/{page}')\n",
    "url_get_wfh = requests.get(f'https://www.kalibrr.id/id-ID/job-board/te/data/work_from_home/y/{page}')"
   ]
  },
  {
   "cell_type": "code",
   "execution_count": 2,
   "id": "9bae6299",
   "metadata": {},
   "outputs": [],
   "source": [
    "from bs4 import BeautifulSoup\n",
    "\n",
    "soup_all = BeautifulSoup(url_get_all.content, \"html.parser\")"
   ]
  },
  {
   "cell_type": "code",
   "execution_count": 3,
   "id": "65555a6a",
   "metadata": {},
   "outputs": [
    {
     "name": "stdout",
     "output_type": "stream",
     "text": [
      "<!DOCTYPE html>\n",
      "<html lang=\"id-ID\">\n",
      " <head>\n",
      "  <meta content=\"width=device-width\" name=\"viewport\"/>\n",
      "  <meta charset=\"utf-8\"/>\n",
      "  <script type=\"application/ld+json\">\n",
      "   {\n",
      "    \"@context\": \"https://schema.org\",\n",
      "    \"@type\": \"WebSite\",\n",
      "    \"url\": \"https://www.kalibrr.com\",\n",
      "    \"potentialAction\": [\n",
      "      {\n",
      "        \"@type\": \"SearchAction\",\n",
      "        \"target\": \"https://www.kalibrr.com/job-board/te/={search_term_string}\",\n",
      "        \"query-input\": \"required name=search_term_string\"\n",
      "      }\n",
      "     ]\n",
      "  }\n",
      "  </scrip\n"
     ]
    }
   ],
   "source": [
    "print(soup_all.prettify()[0:500])"
   ]
  },
  {
   "cell_type": "markdown",
   "id": "228c98db",
   "metadata": {},
   "source": [
    "### CONTAINER"
   ]
  },
  {
   "cell_type": "code",
   "execution_count": 4,
   "id": "94f0260f",
   "metadata": {},
   "outputs": [],
   "source": [
    "containers = soup_all.find_all(\"div\", class_=\"css-1b4vug6\")[0]"
   ]
  },
  {
   "cell_type": "code",
   "execution_count": 5,
   "id": "d221d2ed",
   "metadata": {},
   "outputs": [
    {
     "data": {
      "text/plain": [
       "'DevOps and Data Engineer'"
      ]
     },
     "execution_count": 5,
     "metadata": {},
     "output_type": "execute_result"
    }
   ],
   "source": [
    "containers.find(\"a\", class_=\"k-text-primary-color\").text.strip()"
   ]
  },
  {
   "cell_type": "code",
   "execution_count": 6,
   "id": "08ee4dc8",
   "metadata": {},
   "outputs": [
    {
     "data": {
      "text/plain": [
       "'Tangerang Selatan'"
      ]
     },
     "execution_count": 6,
     "metadata": {},
     "output_type": "execute_result"
    }
   ],
   "source": [
    "containers.find_all(\"a\", class_=\"k-text-subdued\")[2].text.strip().split(\", \")[0]"
   ]
  },
  {
   "cell_type": "code",
   "execution_count": 7,
   "id": "e6e923f4",
   "metadata": {},
   "outputs": [
    {
     "data": {
      "text/plain": [
       "'Posted 9 days ago • Apply before 13 May'"
      ]
     },
     "execution_count": 7,
     "metadata": {},
     "output_type": "execute_result"
    }
   ],
   "source": [
    "containers.find(\"div\", class_=\"k-col-start-5 k-row-start-1 k-text-right k-text-xs k-text-subdued k-hidden k-mb-2 md:k-block\").find_all(\"span\")[0].text.strip()"
   ]
  },
  {
   "cell_type": "code",
   "execution_count": 8,
   "id": "b7e647b0",
   "metadata": {},
   "outputs": [
    {
     "data": {
      "text/plain": [
       "'Posted 9 days ago'"
      ]
     },
     "execution_count": 8,
     "metadata": {},
     "output_type": "execute_result"
    }
   ],
   "source": [
    "containers.find(\"div\", class_=\"k-col-start-5 k-row-start-1 k-text-right k-text-xs k-text-subdued k-hidden k-mb-2 md:k-block\").find_all(\"span\")[0].text.strip().split(\" • \")[0]"
   ]
  },
  {
   "cell_type": "code",
   "execution_count": 9,
   "id": "a84e923d",
   "metadata": {},
   "outputs": [],
   "source": [
    "from datetime import datetime, timedelta\n",
    "\n",
    "def convert_date(date_string):\n",
    "\n",
    "    if 'day' in date_string:\n",
    "        if date_string.startswith('Posted a'):\n",
    "            delta = timedelta(days=1)\n",
    "        else:\n",
    "            days_ago = int(date_string.split()[1])\n",
    "            delta = timedelta(days=days_ago)\n",
    "        date = datetime.now() - delta\n",
    "        \n",
    "    elif 'minute' in date_string:\n",
    "        date = datetime.now()\n",
    "\n",
    "    elif 'hour' in date_string:\n",
    "        if date_string.startswith('Posted an'):\n",
    "            delta = timedelta(hours=1)\n",
    "        else:\n",
    "            hours_ago = int(date_string.split()[1])\n",
    "            delta = timedelta(hours=hours_ago)\n",
    "        date = datetime.now() - delta\n",
    "\n",
    "    elif 'month' in date_string:\n",
    "        if date_string.startswith('Posted a'):\n",
    "            months_ago = 1\n",
    "        else:\n",
    "            months_ago = int(date_string.split()[1])\n",
    "        current_month = datetime.now().month\n",
    "        current_year = datetime.now().year\n",
    "        target_month = current_month - months_ago\n",
    "        if target_month <= 0:\n",
    "            target_month += 12\n",
    "            current_year -= 1\n",
    "        date = datetime(current_year, target_month, 1)\\\n",
    "\n",
    "    elif 'Apply before' in date_string:\n",
    "        date_components = date_string.split()\n",
    "        day = int(date_components[2])\n",
    "        month = datetime.strptime(date_components[3], \"%b\").month\n",
    "        year = datetime.now().year\n",
    "        date = datetime(year, month, day)\n",
    "        formatted_date = date.strftime(\"%d/%m/%Y\")\n",
    "\n",
    "    else:\n",
    "        return None\n",
    "\n",
    "    return date.strftime(\"%d/%m/%Y\")"
   ]
  },
  {
   "cell_type": "markdown",
   "id": "78127af5",
   "metadata": {},
   "source": [
    "# Make Dataset"
   ]
  },
  {
   "cell_type": "markdown",
   "id": "aba65a5c",
   "metadata": {},
   "source": [
    "### ALL JOB"
   ]
  },
  {
   "cell_type": "code",
   "execution_count": 10,
   "id": "0ba3f48c",
   "metadata": {},
   "outputs": [],
   "source": [
    "all_jobs = []\n",
    "\n",
    "for page in range(1, 31):\n",
    "    url = f\"https://www.kalibrr.id/id-ID/job-board/te/data/{page}\"\n",
    "    response = requests.get(url)\n",
    "    soup = BeautifulSoup(response.content, \"html.parser\")\n",
    "    containers = soup.find_all(\"div\", class_=\"css-1b4vug6\")\n",
    "    for cont in containers:\n",
    "        job = {}\n",
    "        # ambil title pekerjaan\n",
    "        job[\"Title\"] = cont.find(\"a\", class_=\"k-text-primary-color\").text.strip()\n",
    "        # ambil nama perusahaan\n",
    "        job[\"Company\"] = cont.find_all(\"a\", class_=\"k-text-subdued\")[1].text.strip()\n",
    "        # ambil lokasi pekerjaan\n",
    "        job[\"Kota\"] = cont.find_all(\"a\", class_=\"k-text-subdued\")[2].text.strip().split(\", \")[0]\n",
    "        job[\"Negara\"] = cont.find_all(\"a\", class_=\"k-text-subdued\")[2].text.strip().split(\", \")[1]\n",
    "        # ambil tanggal post\n",
    "        job[\"Posted\"] = convert_date(cont.find(\"div\", class_=\"k-col-start-5 k-row-start-1 k-text-right k-text-xs k-text-subdued k-hidden k-mb-2 md:k-block\").find_all(\"span\")[0].text.strip().split(\" • \")[0])\n",
    "        job[\"Deadline\"] = convert_date(cont.find(\"div\", class_=\"k-col-start-5 k-row-start-1 k-text-right k-text-xs k-text-subdued k-hidden k-mb-2 md:k-block\").find_all(\"span\")[0].text.strip().split(\" • \")[1])\n",
    "        all_jobs.append(job)\n"
   ]
  },
  {
   "cell_type": "code",
   "execution_count": 11,
   "id": "8c00d0ec",
   "metadata": {},
   "outputs": [],
   "source": [
    "import pandas as pd\n",
    "\n",
    "df_all_job = pd.DataFrame(all_jobs)"
   ]
  },
  {
   "cell_type": "code",
   "execution_count": 12,
   "id": "b9ed6678",
   "metadata": {},
   "outputs": [
    {
     "data": {
      "text/plain": [
       "102"
      ]
     },
     "execution_count": 12,
     "metadata": {},
     "output_type": "execute_result"
    }
   ],
   "source": [
    "df_all_job.duplicated().sum()"
   ]
  },
  {
   "cell_type": "code",
   "execution_count": 13,
   "id": "5fc7c245",
   "metadata": {},
   "outputs": [],
   "source": [
    "df_all_job.drop_duplicates(inplace=True)"
   ]
  },
  {
   "cell_type": "code",
   "execution_count": 14,
   "id": "2c2e4ea8",
   "metadata": {},
   "outputs": [
    {
     "name": "stdout",
     "output_type": "stream",
     "text": [
      "<class 'pandas.core.frame.DataFrame'>\n",
      "Int64Index: 348 entries, 0 to 449\n",
      "Data columns (total 6 columns):\n",
      " #   Column    Non-Null Count  Dtype \n",
      "---  ------    --------------  ----- \n",
      " 0   Title     348 non-null    object\n",
      " 1   Company   348 non-null    object\n",
      " 2   Kota      348 non-null    object\n",
      " 3   Negara    348 non-null    object\n",
      " 4   Posted    346 non-null    object\n",
      " 5   Deadline  348 non-null    object\n",
      "dtypes: object(6)\n",
      "memory usage: 19.0+ KB\n"
     ]
    }
   ],
   "source": [
    "df_all_job.info()"
   ]
  },
  {
   "cell_type": "markdown",
   "id": "6521d723",
   "metadata": {},
   "source": [
    "### WFH"
   ]
  },
  {
   "cell_type": "code",
   "execution_count": 15,
   "id": "4d4472c8",
   "metadata": {},
   "outputs": [],
   "source": [
    "all_wfh = []\n",
    "\n",
    "for page in range(1, 16):\n",
    "    url = f\"https://www.kalibrr.id/id-ID/job-board/te/data/work_from_home/y/{page}\"\n",
    "    response = requests.get(url)\n",
    "    soup = BeautifulSoup(response.content, \"html.parser\")\n",
    "    containers = soup.find_all(\"div\", class_=\"css-1b4vug6\")\n",
    "    for cont in containers:\n",
    "        job = {}\n",
    "        # ambil title pekerjaan\n",
    "        job[\"Title\"] = cont.find(\"a\", class_=\"k-text-primary-color\").text.strip()\n",
    "        # ambil nama perusahaan\n",
    "        job[\"Company\"] = cont.find_all(\"a\", class_=\"k-text-subdued\")[1].text.strip()\n",
    "        # ambil lokasi pekerjaan\n",
    "        job[\"Kota\"] = cont.find_all(\"a\", class_=\"k-text-subdued\")[2].text.strip().split(\", \")[0]\n",
    "        job[\"Negara\"] = cont.find_all(\"a\", class_=\"k-text-subdued\")[2].text.strip().split(\", \")[1]\n",
    "        # ambil tanggal post\n",
    "        job[\"Posted\"] = convert_date(cont.find(\"div\", class_=\"k-col-start-5 k-row-start-1 k-text-right k-text-xs k-text-subdued k-hidden k-mb-2 md:k-block\").find_all(\"span\")[0].text.strip().split(\" • \")[0])\n",
    "        job[\"Deadline\"] = convert_date(cont.find(\"div\", class_=\"k-col-start-5 k-row-start-1 k-text-right k-text-xs k-text-subdued k-hidden k-mb-2 md:k-block\").find_all(\"span\")[0].text.strip().split(\" • \")[1])\n",
    "        all_wfh.append(job)\n"
   ]
  },
  {
   "cell_type": "code",
   "execution_count": 16,
   "id": "26fb364a",
   "metadata": {},
   "outputs": [],
   "source": [
    "import pandas as pd\n",
    "\n",
    "df_all_wfh = pd.DataFrame(all_wfh)"
   ]
  },
  {
   "cell_type": "code",
   "execution_count": 17,
   "id": "db62aea9",
   "metadata": {},
   "outputs": [
    {
     "data": {
      "text/plain": [
       "4"
      ]
     },
     "execution_count": 17,
     "metadata": {},
     "output_type": "execute_result"
    }
   ],
   "source": [
    "df_all_wfh.duplicated().sum()"
   ]
  },
  {
   "cell_type": "code",
   "execution_count": 18,
   "id": "57223e96",
   "metadata": {},
   "outputs": [],
   "source": [
    "df_all_job.drop_duplicates(inplace=True)"
   ]
  },
  {
   "cell_type": "code",
   "execution_count": 19,
   "id": "59ffc3bc",
   "metadata": {},
   "outputs": [
    {
     "name": "stdout",
     "output_type": "stream",
     "text": [
      "<class 'pandas.core.frame.DataFrame'>\n",
      "RangeIndex: 222 entries, 0 to 221\n",
      "Data columns (total 6 columns):\n",
      " #   Column    Non-Null Count  Dtype \n",
      "---  ------    --------------  ----- \n",
      " 0   Title     222 non-null    object\n",
      " 1   Company   222 non-null    object\n",
      " 2   Kota      222 non-null    object\n",
      " 3   Negara    222 non-null    object\n",
      " 4   Posted    220 non-null    object\n",
      " 5   Deadline  222 non-null    object\n",
      "dtypes: object(6)\n",
      "memory usage: 10.5+ KB\n"
     ]
    }
   ],
   "source": [
    "df_all_wfh.info()"
   ]
  },
  {
   "cell_type": "markdown",
   "id": "59402d55",
   "metadata": {},
   "source": [
    "## Data Concatenated"
   ]
  },
  {
   "cell_type": "code",
   "execution_count": 20,
   "id": "2eb5f7b7",
   "metadata": {},
   "outputs": [],
   "source": [
    "df_concatenated = pd.concat([df_all_job, df_all_wfh], ignore_index=True)"
   ]
  },
  {
   "cell_type": "code",
   "execution_count": 21,
   "id": "e1025f78",
   "metadata": {},
   "outputs": [
    {
     "data": {
      "text/plain": [
       "62"
      ]
     },
     "execution_count": 21,
     "metadata": {},
     "output_type": "execute_result"
    }
   ],
   "source": [
    "df_concatenated.duplicated().sum()"
   ]
  },
  {
   "cell_type": "code",
   "execution_count": 22,
   "id": "a76ab1b5",
   "metadata": {},
   "outputs": [],
   "source": [
    "df_concatenated[\"WFH\"] = df_concatenated.apply(lambda row: 'Yes' if row.tolist() in df_all_wfh.values.tolist() else 'No', axis=1)"
   ]
  },
  {
   "cell_type": "code",
   "execution_count": 23,
   "id": "a6117e78",
   "metadata": {},
   "outputs": [
    {
     "data": {
      "text/html": [
       "<div>\n",
       "<style scoped>\n",
       "    .dataframe tbody tr th:only-of-type {\n",
       "        vertical-align: middle;\n",
       "    }\n",
       "\n",
       "    .dataframe tbody tr th {\n",
       "        vertical-align: top;\n",
       "    }\n",
       "\n",
       "    .dataframe thead th {\n",
       "        text-align: right;\n",
       "    }\n",
       "</style>\n",
       "<table border=\"1\" class=\"dataframe\">\n",
       "  <thead>\n",
       "    <tr style=\"text-align: right;\">\n",
       "      <th></th>\n",
       "      <th>Title</th>\n",
       "      <th>Company</th>\n",
       "      <th>Kota</th>\n",
       "      <th>Negara</th>\n",
       "      <th>Posted</th>\n",
       "      <th>Deadline</th>\n",
       "      <th>WFH</th>\n",
       "    </tr>\n",
       "  </thead>\n",
       "  <tbody>\n",
       "    <tr>\n",
       "      <th>0</th>\n",
       "      <td>DevOps and Data Engineer</td>\n",
       "      <td>Mobius Digital</td>\n",
       "      <td>Tangerang Selatan</td>\n",
       "      <td>Indonesia</td>\n",
       "      <td>04/04/2023</td>\n",
       "      <td>13/05/2023</td>\n",
       "      <td>Yes</td>\n",
       "    </tr>\n",
       "    <tr>\n",
       "      <th>1</th>\n",
       "      <td>Data Quality Analyst</td>\n",
       "      <td>Astra Financial</td>\n",
       "      <td>Central Jakarta City</td>\n",
       "      <td>Indonesia</td>\n",
       "      <td>03/04/2023</td>\n",
       "      <td>01/05/2023</td>\n",
       "      <td>Yes</td>\n",
       "    </tr>\n",
       "    <tr>\n",
       "      <th>2</th>\n",
       "      <td>Project Manager</td>\n",
       "      <td>PGI Data</td>\n",
       "      <td>Jakarta</td>\n",
       "      <td>Indonesia</td>\n",
       "      <td>03/04/2023</td>\n",
       "      <td>29/06/2023</td>\n",
       "      <td>No</td>\n",
       "    </tr>\n",
       "    <tr>\n",
       "      <th>3</th>\n",
       "      <td>Business Development (B2B Corporate Sales)</td>\n",
       "      <td>Algoritma</td>\n",
       "      <td>Jakarta</td>\n",
       "      <td>Indonesia</td>\n",
       "      <td>31/03/2023</td>\n",
       "      <td>30/05/2023</td>\n",
       "      <td>No</td>\n",
       "    </tr>\n",
       "    <tr>\n",
       "      <th>4</th>\n",
       "      <td>Data Scientist</td>\n",
       "      <td>MileApp</td>\n",
       "      <td>West Jakarta</td>\n",
       "      <td>Indonesia</td>\n",
       "      <td>01/03/2023</td>\n",
       "      <td>08/05/2023</td>\n",
       "      <td>Yes</td>\n",
       "    </tr>\n",
       "  </tbody>\n",
       "</table>\n",
       "</div>"
      ],
      "text/plain": [
       "                                        Title          Company  \\\n",
       "0                    DevOps and Data Engineer   Mobius Digital   \n",
       "1                        Data Quality Analyst  Astra Financial   \n",
       "2                             Project Manager         PGI Data   \n",
       "3  Business Development (B2B Corporate Sales)        Algoritma   \n",
       "4                              Data Scientist          MileApp   \n",
       "\n",
       "                   Kota     Negara      Posted    Deadline  WFH  \n",
       "0     Tangerang Selatan  Indonesia  04/04/2023  13/05/2023  Yes  \n",
       "1  Central Jakarta City  Indonesia  03/04/2023  01/05/2023  Yes  \n",
       "2               Jakarta  Indonesia  03/04/2023  29/06/2023   No  \n",
       "3               Jakarta  Indonesia  31/03/2023  30/05/2023   No  \n",
       "4          West Jakarta  Indonesia  01/03/2023  08/05/2023  Yes  "
      ]
     },
     "execution_count": 23,
     "metadata": {},
     "output_type": "execute_result"
    }
   ],
   "source": [
    "df_concatenated.head()"
   ]
  },
  {
   "cell_type": "code",
   "execution_count": 24,
   "id": "c58e06dd",
   "metadata": {},
   "outputs": [
    {
     "data": {
      "text/plain": [
       "62"
      ]
     },
     "execution_count": 24,
     "metadata": {},
     "output_type": "execute_result"
    }
   ],
   "source": [
    "df_concatenated.duplicated().sum()"
   ]
  },
  {
   "cell_type": "code",
   "execution_count": 25,
   "id": "f6f97859",
   "metadata": {},
   "outputs": [],
   "source": [
    "df_concatenated.drop_duplicates(inplace=True)"
   ]
  },
  {
   "cell_type": "code",
   "execution_count": 26,
   "id": "3623baff",
   "metadata": {},
   "outputs": [
    {
     "name": "stdout",
     "output_type": "stream",
     "text": [
      "<class 'pandas.core.frame.DataFrame'>\n",
      "Int64Index: 508 entries, 0 to 569\n",
      "Data columns (total 7 columns):\n",
      " #   Column    Non-Null Count  Dtype \n",
      "---  ------    --------------  ----- \n",
      " 0   Title     508 non-null    object\n",
      " 1   Company   508 non-null    object\n",
      " 2   Kota      508 non-null    object\n",
      " 3   Negara    508 non-null    object\n",
      " 4   Posted    506 non-null    object\n",
      " 5   Deadline  508 non-null    object\n",
      " 6   WFH       508 non-null    object\n",
      "dtypes: object(7)\n",
      "memory usage: 31.8+ KB\n"
     ]
    }
   ],
   "source": [
    "df_concatenated.info()"
   ]
  },
  {
   "cell_type": "markdown",
   "id": "bd83b96d",
   "metadata": {},
   "source": [
    "### Drop Missing Value\n",
    "dilakukan penghapusan karna posted sudah setahun yang lalu"
   ]
  },
  {
   "cell_type": "code",
   "execution_count": 27,
   "id": "17934991",
   "metadata": {},
   "outputs": [
    {
     "data": {
      "text/html": [
       "<div>\n",
       "<style scoped>\n",
       "    .dataframe tbody tr th:only-of-type {\n",
       "        vertical-align: middle;\n",
       "    }\n",
       "\n",
       "    .dataframe tbody tr th {\n",
       "        vertical-align: top;\n",
       "    }\n",
       "\n",
       "    .dataframe thead th {\n",
       "        text-align: right;\n",
       "    }\n",
       "</style>\n",
       "<table border=\"1\" class=\"dataframe\">\n",
       "  <thead>\n",
       "    <tr style=\"text-align: right;\">\n",
       "      <th></th>\n",
       "      <th>Title</th>\n",
       "      <th>Company</th>\n",
       "      <th>Kota</th>\n",
       "      <th>Negara</th>\n",
       "      <th>Posted</th>\n",
       "      <th>Deadline</th>\n",
       "      <th>WFH</th>\n",
       "    </tr>\n",
       "  </thead>\n",
       "  <tbody>\n",
       "    <tr>\n",
       "      <th>280</th>\n",
       "      <td>Freelance Backend Engineer</td>\n",
       "      <td>Kompas Gramedia</td>\n",
       "      <td>West Jakarta</td>\n",
       "      <td>Indonesia</td>\n",
       "      <td>None</td>\n",
       "      <td>20/04/2023</td>\n",
       "      <td>Yes</td>\n",
       "    </tr>\n",
       "    <tr>\n",
       "      <th>281</th>\n",
       "      <td>Freelance Frontend Engineer</td>\n",
       "      <td>Kompas Gramedia</td>\n",
       "      <td>West Jakarta</td>\n",
       "      <td>Indonesia</td>\n",
       "      <td>None</td>\n",
       "      <td>20/04/2023</td>\n",
       "      <td>Yes</td>\n",
       "    </tr>\n",
       "  </tbody>\n",
       "</table>\n",
       "</div>"
      ],
      "text/plain": [
       "                           Title          Company          Kota     Negara  \\\n",
       "280   Freelance Backend Engineer  Kompas Gramedia  West Jakarta  Indonesia   \n",
       "281  Freelance Frontend Engineer  Kompas Gramedia  West Jakarta  Indonesia   \n",
       "\n",
       "    Posted    Deadline  WFH  \n",
       "280   None  20/04/2023  Yes  \n",
       "281   None  20/04/2023  Yes  "
      ]
     },
     "execution_count": 27,
     "metadata": {},
     "output_type": "execute_result"
    }
   ],
   "source": [
    "df_concatenated[df_concatenated['Posted'].isna() == True]"
   ]
  },
  {
   "cell_type": "code",
   "execution_count": 28,
   "id": "0f29f065",
   "metadata": {},
   "outputs": [],
   "source": [
    "df_concatenated = df_concatenated.dropna()"
   ]
  },
  {
   "cell_type": "code",
   "execution_count": 29,
   "id": "501899d7",
   "metadata": {},
   "outputs": [
    {
     "name": "stderr",
     "output_type": "stream",
     "text": [
      "C:\\Users\\ASUS\\AppData\\Local\\Temp\\ipykernel_18692\\3915659784.py:1: UserWarning: Parsing dates in DD/MM/YYYY format when dayfirst=False (the default) was specified. This may lead to inconsistently parsed dates! Specify a format to ensure consistent parsing.\n",
      "  df_concatenated['Posted'] = pd.to_datetime(df_concatenated['Posted'])\n",
      "C:\\Users\\ASUS\\AppData\\Local\\Temp\\ipykernel_18692\\3915659784.py:2: UserWarning: Parsing dates in DD/MM/YYYY format when dayfirst=False (the default) was specified. This may lead to inconsistently parsed dates! Specify a format to ensure consistent parsing.\n",
      "  df_concatenated['Deadline'] = pd.to_datetime(df_concatenated['Deadline'])\n"
     ]
    }
   ],
   "source": [
    "df_concatenated['Posted'] = pd.to_datetime(df_concatenated['Posted'])\n",
    "df_concatenated['Deadline'] = pd.to_datetime(df_concatenated['Deadline'])"
   ]
  },
  {
   "cell_type": "code",
   "execution_count": 30,
   "id": "6a838b97",
   "metadata": {},
   "outputs": [
    {
     "name": "stdout",
     "output_type": "stream",
     "text": [
      "<class 'pandas.core.frame.DataFrame'>\n",
      "Int64Index: 506 entries, 0 to 569\n",
      "Data columns (total 7 columns):\n",
      " #   Column    Non-Null Count  Dtype         \n",
      "---  ------    --------------  -----         \n",
      " 0   Title     506 non-null    object        \n",
      " 1   Company   506 non-null    object        \n",
      " 2   Kota      506 non-null    object        \n",
      " 3   Negara    506 non-null    object        \n",
      " 4   Posted    506 non-null    datetime64[ns]\n",
      " 5   Deadline  506 non-null    datetime64[ns]\n",
      " 6   WFH       506 non-null    object        \n",
      "dtypes: datetime64[ns](2), object(5)\n",
      "memory usage: 31.6+ KB\n"
     ]
    }
   ],
   "source": [
    "df_concatenated.info()"
   ]
  },
  {
   "cell_type": "code",
   "execution_count": 31,
   "id": "065beb28",
   "metadata": {},
   "outputs": [],
   "source": [
    "df_concatenated.to_csv(\"./data_input/dataset_kalibrr.csv\", index=False)"
   ]
  },
  {
   "cell_type": "markdown",
   "id": "db86841f",
   "metadata": {},
   "source": [
    "# Analisis Data"
   ]
  },
  {
   "cell_type": "markdown",
   "id": "0a375057",
   "metadata": {},
   "source": [
    "Membuat dataframe yang berisikan data pekerjaan yang baru-baru ini dibuka"
   ]
  },
  {
   "cell_type": "code",
   "execution_count": 32,
   "id": "4116fab2",
   "metadata": {},
   "outputs": [],
   "source": [
    "df_ws = pd.read_csv(\"./data_input/dataset_kalibrr.csv\")"
   ]
  },
  {
   "cell_type": "code",
   "execution_count": 33,
   "id": "3aca1b64",
   "metadata": {},
   "outputs": [],
   "source": [
    "df_ws['Posted'] = pd.to_datetime(df_ws['Posted'])\n",
    "df_ws['Deadline'] = pd.to_datetime(df_ws['Deadline'])"
   ]
  },
  {
   "cell_type": "code",
   "execution_count": 34,
   "id": "3c249502",
   "metadata": {},
   "outputs": [],
   "source": [
    "selected_w = \"No\"\n",
    "wf = lambda x: \"WFH\" if x == \"Yes\" else \"WFO\""
   ]
  },
  {
   "cell_type": "code",
   "execution_count": 35,
   "id": "e4a8368f",
   "metadata": {},
   "outputs": [],
   "source": [
    "df_wf = df_ws.loc[df_ws['WFH'] == selected_w]"
   ]
  },
  {
   "cell_type": "code",
   "execution_count": 36,
   "id": "37209707",
   "metadata": {},
   "outputs": [
    {
     "name": "stdout",
     "output_type": "stream",
     "text": [
      "Total Pekerjaan yang baru dibuka satu minggu ini: 87\n"
     ]
    }
   ],
   "source": [
    "from datetime import datetime, timedelta\n",
    "\n",
    "today = datetime.today()\n",
    "\n",
    "one_week_ago = today - timedelta(days=7)\n",
    "new_jobs_df = df_wf[df_wf['Posted'] >= one_week_ago]\n",
    "\n",
    "new_jobs = new_jobs_df['Title'].count()\n",
    "print(f\"Total Pekerjaan yang baru dibuka satu minggu ini: {new_jobs}\")"
   ]
  },
  {
   "cell_type": "code",
   "execution_count": 37,
   "id": "a2232f31",
   "metadata": {},
   "outputs": [
    {
     "data": {
      "image/png": "[encoded data removed]",
      "text/plain": [
       "<Figure size 640x480 with 1 Axes>"
      ]
     },
     "metadata": {},
     "output_type": "display_data"
    }
   ],
   "source": [
    "import matplotlib.pyplot as plt\n",
    "\n",
    "top_kota = new_jobs_df['Kota'].value_counts().head(3)\n",
    "top_kota.plot(kind='bar', color=['#AE2024', '#000000', '#FFC20E'])\n",
    "plt.title(f'Top 3 Cities with the Most Newly Opened {wf(selected_w)} Jobs in the Past Week', fontsize=14, fontweight='bold')\n",
    "plt.xlabel('Kota', fontsize=12)\n",
    "plt.ylabel('Jumlah Job', fontsize=12)\n",
    "plt.gca().spines['top'].set_visible(False)\n",
    "plt.gca().spines['right'].set_visible(False)\n",
    "plt.show()"
   ]
  },
  {
   "cell_type": "code",
   "execution_count": 38,
   "id": "bf161630",
   "metadata": {},
   "outputs": [
    {
     "name": "stdout",
     "output_type": "stream",
     "text": [
      "Jakarta Sebanyak : 24\n"
     ]
    }
   ],
   "source": [
    "top_cities = new_jobs_df['Kota'].value_counts().head()\n",
    "print(f'{top_cities.index[0]} Sebanyak : {top_cities[0]}')"
   ]
  },
  {
   "cell_type": "code",
   "execution_count": 39,
   "id": "e6d6031d",
   "metadata": {},
   "outputs": [],
   "source": [
    "company = new_jobs_df.groupby('Company').size().reset_index(name='Job Count')"
   ]
  },
  {
   "cell_type": "code",
   "execution_count": 40,
   "id": "31ba5234",
   "metadata": {},
   "outputs": [
    {
     "name": "stdout",
     "output_type": "stream",
     "text": [
      "Great Giant Foods Sebanyak : 26\n"
     ]
    }
   ],
   "source": [
    "company = company.sort_values('Job Count', ascending=False)\n",
    "top_company = company.iloc[0]\n",
    "print(f'{top_company[0]} Sebanyak : {top_company[1]}')"
   ]
  },
  {
   "cell_type": "code",
   "execution_count": 41,
   "id": "2fdbcb3f",
   "metadata": {},
   "outputs": [
    {
     "name": "stderr",
     "output_type": "stream",
     "text": [
      "C:\\Users\\ASUS\\AppData\\Local\\Temp\\ipykernel_18692\\3475569713.py:2: FutureWarning: The behavior of `series[i:j]` with an integer-dtype index is deprecated. In a future version, this will be treated as *label-based* indexing, consistent with e.g. `series[i]` lookups. To retain the old behavior, use `series.iloc[i:j]`. To get the future behavior, use `series.loc[i:j]`.\n",
      "  ax.bar(company['Company'][:3], company['Job Count'][:3], color=['#AE2024', '#000000', '#FFC20E'])\n"
     ]
    },
    {
     "data": {
      "image/png": "[encoded data removed]",
      "text/plain": [
       "<Figure size 800x600 with 1 Axes>"
      ]
     },
     "metadata": {},
     "output_type": "display_data"
    }
   ],
   "source": [
    "fig, ax = plt.subplots(figsize=(8,6))\n",
    "ax.bar(company['Company'][:3], company['Job Count'][:3], color=['#AE2024', '#000000', '#FFC20E'])\n",
    "ax.set_title(f'Top 3 Companies with Most Newly Opened {wf(selected_w)} Jobs in the Past Week')\n",
    "ax.set_xlabel('Company')\n",
    "ax.set_ylabel('Job Count')\n",
    "plt.gca().spines['top'].set_visible(False)\n",
    "plt.gca().spines['right'].set_visible(False)\n",
    "plt.show()"
   ]
  },
  {
   "cell_type": "code",
   "execution_count": 42,
   "id": "b129f37e",
   "metadata": {},
   "outputs": [
    {
     "name": "stdout",
     "output_type": "stream",
     "text": [
      "In the past week, there were a total of 87 new job openings WFO positions. The city with the highest number of job openings is Jakarta, with 24 openings. The company that posted the most job openings is Great Giant Foods, with a total of 26 openings.\n"
     ]
    }
   ],
   "source": [
    "# VOICE MESSAGE\n",
    "\n",
    "plot_text = f'In the past week, there were a total of {new_jobs} new job openings {wf(selected_w)} positions. The city with the highest number of job openings is {top_cities.index[0]}, with {top_cities[0]} openings. The company that posted the most job openings is {top_company[0]}, with a total of {top_company[1]} openings.'\n",
    "\n",
    "print(plot_text)"
   ]
  },
  {
   "cell_type": "code",
   "execution_count": 43,
   "id": "7db13849",
   "metadata": {},
   "outputs": [],
   "source": [
    "import gtts\n",
    "\n",
    "speech = gtts.gTTS(text = plot_text)\n",
    "speech.save('output/plot_info_ws.ogg')"
   ]
  },
  {
   "cell_type": "code",
   "execution_count": 44,
   "id": "089d241e",
   "metadata": {},
   "outputs": [
    {
     "data": {
      "text/html": [
       "\n",
       "                <audio  controls=\"controls\" >\n",
       "                    <source src=\"data:audio/ogg;base64,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\" type=\"audio/ogg\" />\n",
       "                    Your browser does not support the audio element.\n",
       "                </audio>\n",
       "              "
      ],
      "text/plain": [
       "<IPython.lib.display.Audio object>"
      ]
     },
     "execution_count": 44,
     "metadata": {},
     "output_type": "execute_result"
    }
   ],
   "source": [
    "from IPython.display import Audio\n",
    "Audio('output/plot_info_ws.ogg')"
   ]
  },
  {
   "cell_type": "code",
   "execution_count": 45,
   "id": "90512100",
   "metadata": {},
   "outputs": [
    {
     "ename": "NameError",
     "evalue": "name 'os' is not defined",
     "output_type": "error",
     "traceback": [
      "\u001b[1;31m---------------------------------------------------------------------------\u001b[0m",
      "\u001b[1;31mNameError\u001b[0m                                 Traceback (most recent call last)",
      "Cell \u001b[1;32mIn[45], line 23\u001b[0m\n\u001b[0;32m     20\u001b[0m plt\u001b[38;5;241m.\u001b[39mgca()\u001b[38;5;241m.\u001b[39mspines[\u001b[38;5;124m'\u001b[39m\u001b[38;5;124mright\u001b[39m\u001b[38;5;124m'\u001b[39m]\u001b[38;5;241m.\u001b[39mset_visible(\u001b[38;5;28;01mFalse\u001b[39;00m)\n\u001b[0;32m     22\u001b[0m \u001b[38;5;66;03m# create output folder\u001b[39;00m\n\u001b[1;32m---> 23\u001b[0m \u001b[38;5;28;01mif\u001b[39;00m \u001b[38;5;129;01mnot\u001b[39;00m \u001b[43mos\u001b[49m\u001b[38;5;241m.\u001b[39mpath\u001b[38;5;241m.\u001b[39mexists(\u001b[38;5;124m'\u001b[39m\u001b[38;5;124moutput\u001b[39m\u001b[38;5;124m'\u001b[39m):\n\u001b[0;32m     24\u001b[0m     os\u001b[38;5;241m.\u001b[39mmakedirs(\u001b[38;5;124m'\u001b[39m\u001b[38;5;124moutput\u001b[39m\u001b[38;5;124m'\u001b[39m)\n\u001b[0;32m     26\u001b[0m \u001b[38;5;66;03m# save plot\u001b[39;00m\n",
      "\u001b[1;31mNameError\u001b[0m: name 'os' is not defined"
     ]
    },
    {
     "data": {
      "image/png": "[encoded data removed]",
      "text/plain": [
       "<Figure size 640x480 with 1 Axes>"
      ]
     },
     "metadata": {},
     "output_type": "display_data"
    }
   ],
   "source": [
    "if selected_w in [\"No\", \"Yes\"]:\n",
    "        # TO DO: find the range date\n",
    "        wf = lambda x: \"WFH\" if x == \"Yes\" else \"WFO\"\n",
    "        df_wf = df_ws.loc[df_ws['WFH'] == selected_w]\n",
    "\n",
    "        today = datetime.today()\n",
    "\n",
    "        one_week_ago = today - timedelta(days=7)\n",
    "        new_jobs_df = df_wf[df_wf['Posted'] >= one_week_ago]\n",
    "\n",
    "        new_jobs = new_jobs_df['Title'].count()\n",
    "\n",
    "        # Cities\n",
    "        top_kota = new_jobs_df['Kota'].value_counts().head(3)\n",
    "        top_kota.plot(kind='bar', color=['#AE2024', '#000000', '#FFC20E'])\n",
    "        plt.title(f'Top 3 Cities with the Most Newly Opened {wf(selected_w)} Jobs in the Past Week', fontsize=14, fontweight='bold')\n",
    "        plt.xlabel('Kota', fontsize=12)\n",
    "        plt.ylabel('Jumlah Job', fontsize=12)\n",
    "        plt.gca().spines['top'].set_visible(False)\n",
    "        plt.gca().spines['right'].set_visible(False)\n",
    "\n",
    "        # create output folder\n",
    "        if not os.path.exists('output'):\n",
    "            os.makedirs('output')\n",
    "\n",
    "        # save plot\n",
    "        plt.savefig('output/plot_ws_1.png', bbox_inches='tight')\n",
    "\n",
    "        # Companies\n",
    "        company = new_jobs_df.groupby('Company').size().reset_index(name='Job Count')\n",
    "\n",
    "        company = company.sort_values('Job Count', ascending=False)\n",
    "        top_company = company.iloc[0]\n",
    "        print(f'{top_company[0]} Sebanyak : {top_company[1]}')\n",
    "\n",
    "        fig, ax = plt.subplots(figsize=(8,6))\n",
    "        ax.bar(company['Company'][:3], company['Job Count'][:3], color=['#AE2024', '#000000', '#FFC20E'])\n",
    "        ax.set_title(f'Top 3 Companies with Most Newly Opened {wf(selected_w)} Jobs in the Past Week')\n",
    "        ax.set_xlabel('Company')\n",
    "        ax.set_ylabel('Job Count')\n",
    "        plt.gca().spines['top'].set_visible(False)\n",
    "        plt.gca().spines['right'].set_visible(False)\n",
    "\n",
    "        # create output folder\n",
    "        if not os.path.exists('output'):\n",
    "            os.makedirs('output')\n",
    "\n",
    "        # save plot\n",
    "        plt.savefig('output/plot_ws_2.png', bbox_inches='tight')\n",
    "\n",
    "        plot_text = f'In the past week, there were a total of {new_jobs} new job openings {wf(selected_w)} positions. The city with the highest number of job openings is {top_cities.index[0]}, with {top_cities[0]} openings. The company that posted the most job openings is {top_company[0]}, with a total of {top_company[1]} openings.'\n",
    "\n",
    "        speech = gTTS(text = plot_text)\n",
    "        speech.save('output/plot_info_ws.ogg')"
   ]
  },
  {
   "cell_type": "code",
   "execution_count": null,
   "id": "561bb382",
   "metadata": {},
   "outputs": [],
   "source": []
  }
 ],
 "metadata": {
  "kernelspec": {
   "display_name": "Python 3 (ipykernel)",
   "language": "python",
   "name": "python3"
  },
  "language_info": {
   "codemirror_mode": {
    "name": "ipython",
    "version": 3
   },
   "file_extension": ".py",
   "mimetype": "text/x-python",
   "name": "python",
   "nbconvert_exporter": "python",
   "pygments_lexer": "ipython3",
   "version": "3.10.11"
  }
 },
 "nbformat": 4,
 "nbformat_minor": 5
}
